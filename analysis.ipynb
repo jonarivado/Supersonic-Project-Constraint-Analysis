{
 "cells": [
  {
   "cell_type": "code",
   "execution_count": null,
   "metadata": {},
   "outputs": [],
   "source": [
    "# imports\n",
    "import pandas as pd\n",
    "import numpy as np\n",
    "import matplotlib.pyplot as plt\n",
    "import ambiance as amb\n",
    "import math"
   ]
  },
  {
   "cell_type": "code",
   "execution_count": null,
   "metadata": {},
   "outputs": [],
   "source": [
    "#Aircraft variables & estimates in SI units\n",
    "W = 25 #weight in kg\n",
    "S = 2 #wing area in m^2\n",
    "b = 2 #wing span in m\n",
    "c = 0.5 #mean aerodynamic chord in m\n",
    "AR = b**2/S #aspect ratio\n",
    "e = 0.8 #oswald efficiency factor\n",
    "V = 100 #cruise speed in m/s\n",
    "V_stall = 10 #stall speed in m/s\n",
    "rho = float(amb.Atmosphere(0).density) #air density in kg/m^3\n",
    "mu = float(amb.Atmosphere(0).dynamic_viscosity) #dynamic viscosity in kg/m/s\n",
    "k = 1/(math.pi*e*AR) #induced drag constant\n",
    "CD0 = 0.005 #zero lift drag coefficient\n",
    "CL = 1.2 #lift coefficient\n",
    "CD = CD0 + k*CL**2 #drag coefficient\n",
    "CDR = 0\n",
    "g0 = float(amb.Atmosphere(0).grav_accel) #gravitational acceleration in m/s^2\n",
    "q = 0.5*rho*V**2 #dynamic pressure in N/m^2\n",
    "ROC = 10 #rate of climb in m/s\n",
    "TR = 100 #turn radius in m\n",
    "n = math.sqrt(1+(V**2/(g0*TR))**2) #load factor\n",
    "\n",
    "alpha = 1 #thrust lapse factor\n",
    "beta = 1 #how much the weight of the aircraft is reduced by the fuel burn compared to MTOW"
   ]
  }
 ],
 "metadata": {
  "language_info": {
   "name": "python"
  }
 },
 "nbformat": 4,
 "nbformat_minor": 2
}
